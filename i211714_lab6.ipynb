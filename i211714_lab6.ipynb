{
 "cells": [
  {
   "cell_type": "markdown",
   "metadata": {},
   "source": [
    "                Single support"
   ]
  },
  {
   "cell_type": "code",
   "execution_count": 1,
   "metadata": {},
   "outputs": [],
   "source": [
    "# Step 1: Import Required Libraries\n",
    "import numpy as np\n",
    "import pandas as pd\n",
    "from apyori import apriori"
   ]
  },
  {
   "cell_type": "code",
   "execution_count": 2,
   "metadata": {},
   "outputs": [],
   "source": [
    "# Define the dataset\n",
    "dataset = [\n",
    "    ['Student', 'Teach', 'School', 'Education'],\n",
    "    ['Student', 'School', 'Education'],\n",
    "    ['Teach', 'School', 'City', 'Game', 'Education'],\n",
    "    ['Baseball', 'Basketball', 'Sport'],\n",
    "    ['Basketball', 'Player', 'Spectator', 'Sport'],\n",
    "    ['Baseball', 'Coach', 'Game', 'Team', 'Sport'],\n",
    "    ['Basketball', 'Team', 'City', 'Game', 'Sport']\n",
    "]"
   ]
  },
  {
   "cell_type": "code",
   "execution_count": 3,
   "metadata": {},
   "outputs": [],
   "source": [
    "# Define class labels\n",
    "class_labels = {'Education', 'Sport'}"
   ]
  },
  {
   "cell_type": "code",
   "execution_count": 4,
   "metadata": {},
   "outputs": [],
   "source": [
    "# Run Apriori algorithm\n",
    "rules = apriori(dataset, min_support=0.2, min_confidence=0.6, min_lift=1, min_length=2)"
   ]
  },
  {
   "cell_type": "code",
   "execution_count": 5,
   "metadata": {},
   "outputs": [
    {
     "name": "stdout",
     "output_type": "stream",
     "text": [
      "Rule: {'Baseball'} → {'Sport'}\n",
      "Support: 0.29\n",
      "Confidence: 1.00\n",
      "Lift: 1.75\n",
      "----------------------------------------\n",
      "Rule: {'Basketball'} → {'Sport'}\n",
      "Support: 0.43\n",
      "Confidence: 1.00\n",
      "Lift: 1.75\n",
      "----------------------------------------\n",
      "Rule: {'School'} → {'Education'}\n",
      "Support: 0.43\n",
      "Confidence: 1.00\n",
      "Lift: 2.33\n",
      "----------------------------------------\n",
      "Rule: {'Student'} → {'Education'}\n",
      "Support: 0.29\n",
      "Confidence: 1.00\n",
      "Lift: 2.33\n",
      "----------------------------------------\n",
      "Rule: {'Teach'} → {'Education'}\n",
      "Support: 0.29\n",
      "Confidence: 1.00\n",
      "Lift: 2.33\n",
      "----------------------------------------\n",
      "Rule: {'Game'} → {'Sport'}\n",
      "Support: 0.29\n",
      "Confidence: 0.67\n",
      "Lift: 1.17\n",
      "----------------------------------------\n",
      "Rule: {'Team'} → {'Sport'}\n",
      "Support: 0.29\n",
      "Confidence: 1.00\n",
      "Lift: 1.75\n",
      "----------------------------------------\n",
      "Rule: {'Student', 'School'} → {'Education'}\n",
      "Support: 0.29\n",
      "Confidence: 1.00\n",
      "Lift: 2.33\n",
      "----------------------------------------\n",
      "Rule: {'Teach', 'School'} → {'Education'}\n",
      "Support: 0.29\n",
      "Confidence: 1.00\n",
      "Lift: 2.33\n",
      "----------------------------------------\n",
      "Rule: {'Team', 'Game'} → {'Sport'}\n",
      "Support: 0.29\n",
      "Confidence: 1.00\n",
      "Lift: 1.75\n",
      "----------------------------------------\n"
     ]
    }
   ],
   "source": [
    "# Display results\n",
    "results = list(rules)\n",
    "\n",
    "for rule in results:\n",
    "    items = set(rule.items)\n",
    "    for ordered_stat in rule.ordered_statistics:\n",
    "        base = set(ordered_stat.items_base)\n",
    "        add = set(ordered_stat.items_add)\n",
    "\n",
    "        # Ensure the RHS contains only one item and it is a class label\n",
    "        if len(add) == 1 and next(iter(add)) in class_labels:\n",
    "            print(f\"Rule: {base} → {add}\")\n",
    "            print(f\"Support: {rule.support:.2f}\")\n",
    "            print(f\"Confidence: {ordered_stat.confidence:.2f}\")\n",
    "            print(f\"Lift: {ordered_stat.lift:.2f}\")\n",
    "            print(\"-\" * 40)"
   ]
  },
  {
   "cell_type": "markdown",
   "metadata": {},
   "source": [
    "            Multi Support"
   ]
  },
  {
   "cell_type": "code",
   "execution_count": 6,
   "metadata": {},
   "outputs": [],
   "source": [
    "# Step 1: Load Dataset\n",
    "data = pd.read_csv(\"document_data.csv\")"
   ]
  },
  {
   "cell_type": "code",
   "execution_count": 7,
   "metadata": {},
   "outputs": [],
   "source": [
    "# Step 2: Transform Data - Convert documents into transaction-like format with class labels\n",
    "transactions = []\n",
    "class_transactions = {}  # Store transactions by class\n",
    "all_items = set()\n",
    "\n",
    "for index, row in data.iterrows():\n",
    "    items = row['Terms'].split(\", \")  # Convert terms to list\n",
    "    items.append(row['Class'])  # Append class label to transaction\n",
    "    transactions.append(items)\n",
    "    all_items.update(items)\n",
    "\n",
    "    # Store transactions separately for each class\n",
    "    doc_class = row['Class']\n",
    "    if doc_class not in class_transactions:\n",
    "        class_transactions[doc_class] = []\n",
    "    class_transactions[doc_class].append(items)"
   ]
  },
  {
   "cell_type": "code",
   "execution_count": 8,
   "metadata": {},
   "outputs": [
    {
     "name": "stdout",
     "output_type": "stream",
     "text": [
      "Assigned Minimum Support for Each Class: {'Education': 0.3, 'Sport': 0.25}\n"
     ]
    }
   ],
   "source": [
    "# Step 3: Manually Assign Minimum Support for Each Class\n",
    "class_min_support = {\n",
    "    'Education': 0.3,  # Minimum Support for Education\n",
    "    'Sport': 0.25      # Minimum Support for Sport\n",
    "}\n",
    "\n",
    "print(\"Assigned Minimum Support for Each Class:\", class_min_support)"
   ]
  },
  {
   "cell_type": "code",
   "execution_count": 9,
   "metadata": {},
   "outputs": [],
   "source": [
    "# Step 4: Generate Class Association Rules for each class separately\n",
    "filtered_rules = []\n",
    "\n",
    "for doc_class, class_data in class_transactions.items():\n",
    "    min_support = class_min_support.get(doc_class, 0.2)  # Default to 0.2 if not specified\n",
    "\n",
    "    rules = apriori(class_data, min_support=min_support, min_confidence=0.6, min_lift=1.2, min_length=2)\n",
    "    results = list(rules)\n",
    "\n",
    "    # Store rules along with class info\n",
    "    for item in results:\n",
    "        filtered_rules.append((doc_class, item))"
   ]
  },
  {
   "cell_type": "code",
   "execution_count": 10,
   "metadata": {},
   "outputs": [
    {
     "name": "stdout",
     "output_type": "stream",
     "text": [
      "Class: Education\n",
      "Rule: ['Game', 'Teach'] → Education\n",
      "Support: 0.3333\n",
      "Confidence: 1.0\n",
      "Lift: 1.5\n",
      "\n",
      "Class: Education\n",
      "Rule: ['Game', 'Teach', 'School'] → Education\n",
      "Support: 0.3333\n",
      "Confidence: 1.0\n",
      "Lift: 1.5\n",
      "\n",
      "Class: Sport\n",
      "Rule: ['Baseball', 'Coach'] → Sport\n",
      "Support: 0.25\n",
      "Confidence: 1.0\n",
      "Lift: 2.0\n",
      "\n",
      "Class: Sport\n",
      "Rule: ['Baseball', 'Game'] → Sport\n",
      "Support: 0.25\n",
      "Confidence: 1.0\n",
      "Lift: 2.0\n",
      "\n",
      "Class: Sport\n",
      "Rule: ['City', 'Basketball'] → Sport\n",
      "Support: 0.25\n",
      "Confidence: 1.0\n",
      "Lift: 1.3333\n",
      "\n",
      "Class: Sport\n",
      "Rule: ['Basketball', 'Player'] → Sport\n",
      "Support: 0.25\n",
      "Confidence: 1.0\n",
      "Lift: 1.3333\n",
      "\n",
      "Class: Sport\n",
      "Rule: ['Team', 'Basketball'] → Sport\n",
      "Support: 0.25\n",
      "Confidence: 1.0\n",
      "Lift: 1.3333\n",
      "\n",
      "Class: Sport\n",
      "Rule: ['City', 'Team'] → Sport\n",
      "Support: 0.25\n",
      "Confidence: 1.0\n",
      "Lift: 4.0\n",
      "\n",
      "Class: Sport\n",
      "Rule: ['Coach', 'Game'] → Sport\n",
      "Support: 0.25\n",
      "Confidence: 1.0\n",
      "Lift: 4.0\n",
      "\n",
      "Class: Sport\n",
      "Rule: ['Baseball', 'Game', 'Coach'] → Sport\n",
      "Support: 0.25\n",
      "Confidence: 1.0\n",
      "Lift: 4.0\n",
      "\n",
      "Class: Sport\n",
      "Rule: ['City', 'Basketball', 'Team'] → Sport\n",
      "Support: 0.25\n",
      "Confidence: 1.0\n",
      "Lift: 4.0\n",
      "\n"
     ]
    }
   ],
   "source": [
    "# Step 5: Display Results (Class Association Rules)\n",
    "for doc_class, item in filtered_rules:\n",
    "    pair = item[0]  # Extract itemset\n",
    "    items = [x for x in pair if x != doc_class]  # Exclude class from antecedents\n",
    "    \n",
    "    if doc_class in pair:  # Ensure the class is in the rule\n",
    "        print(f\"Class: {doc_class}\")\n",
    "        print(f\"Rule: {items} → {doc_class}\")  # Predicting the class\n",
    "        print(f\"Support: {round(item[1], 4)}\")\n",
    "        print(f\"Confidence: {round(item[2][0][2], 4)}\")  # Confidence of predicting the class\n",
    "        print(f\"Lift: {round(item[2][0][3], 4)}\\n\")\n"
   ]
  }
 ],
 "metadata": {
  "kernelspec": {
   "display_name": "Python 3",
   "language": "python",
   "name": "python3"
  },
  "language_info": {
   "codemirror_mode": {
    "name": "ipython",
    "version": 3
   },
   "file_extension": ".py",
   "mimetype": "text/x-python",
   "name": "python",
   "nbconvert_exporter": "python",
   "pygments_lexer": "ipython3",
   "version": "3.13.2"
  }
 },
 "nbformat": 4,
 "nbformat_minor": 2
}
